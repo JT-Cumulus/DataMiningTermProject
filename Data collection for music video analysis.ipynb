{
 "cells": [
  {
   "cell_type": "markdown",
   "id": "26c700cc",
   "metadata": {},
   "source": [
    "# Data collection for music video analysis\n",
    "\n",
    "To analyze music video's and their lyrics, the music videos need to be found and downloaded from YouTube. The main approach for this is to search YouTube for \"song_name + \"music video\"\" and scrape the first search result.\n",
    "\n",
    "First, we import the lyrics dataset."
   ]
  },
  {
   "cell_type": "code",
   "execution_count": 1,
   "id": "37c3c38b",
   "metadata": {},
   "outputs": [],
   "source": [
    "# This code is from tutorial 3.1\n",
    "import pickle\n",
    "import pandas as pd\n",
    "\n",
    "PATH_DF = 'english_cleaned_lyrics.csv' \n",
    "PATH_CORRECTION = 'indx2newdate.p' \n",
    "\n",
    "def load_dataset(data_path, path_correction):\n",
    "    df = pd.read_csv(data_path)\n",
    "    indx2newdate = pickle.load(open(PATH_CORRECTION, 'rb'))\n",
    "    df['year'] = df['index'].apply(lambda x: int(indx2newdate[x][0][:4]) if indx2newdate[x][0] != '' else 0)\n",
    "    return df[df.year > 1960][['song', 'year', 'artist', 'genre', 'lyrics']]\n",
    "\n",
    "df = load_dataset(PATH_DF, PATH_CORRECTION)"
   ]
  },
  {
   "cell_type": "code",
   "execution_count": 27,
   "id": "95978142",
   "metadata": {},
   "outputs": [
    {
     "data": {
      "text/html": [
       "<div>\n",
       "<style scoped>\n",
       "    .dataframe tbody tr th:only-of-type {\n",
       "        vertical-align: middle;\n",
       "    }\n",
       "\n",
       "    .dataframe tbody tr th {\n",
       "        vertical-align: top;\n",
       "    }\n",
       "\n",
       "    .dataframe thead th {\n",
       "        text-align: right;\n",
       "    }\n",
       "</style>\n",
       "<table border=\"1\" class=\"dataframe\">\n",
       "  <thead>\n",
       "    <tr style=\"text-align: right;\">\n",
       "      <th></th>\n",
       "      <th>song</th>\n",
       "      <th>year</th>\n",
       "      <th>artist</th>\n",
       "      <th>genre</th>\n",
       "      <th>lyrics</th>\n",
       "    </tr>\n",
       "  </thead>\n",
       "  <tbody>\n",
       "    <tr>\n",
       "      <th>0</th>\n",
       "      <td>ego-remix</td>\n",
       "      <td>2009</td>\n",
       "      <td>beyonce</td>\n",
       "      <td>Pop</td>\n",
       "      <td>Oh baby how you doing You know I'm gonna cut r...</td>\n",
       "    </tr>\n",
       "    <tr>\n",
       "      <th>5</th>\n",
       "      <td>all-i-could-do-was-cry</td>\n",
       "      <td>2008</td>\n",
       "      <td>beyonce</td>\n",
       "      <td>Pop</td>\n",
       "      <td>I heard Church bells ringing I heard A choir s...</td>\n",
       "    </tr>\n",
       "    <tr>\n",
       "      <th>6</th>\n",
       "      <td>once-in-a-lifetime</td>\n",
       "      <td>2008</td>\n",
       "      <td>beyonce</td>\n",
       "      <td>Pop</td>\n",
       "      <td>This is just another day that I would spend Wa...</td>\n",
       "    </tr>\n",
       "    <tr>\n",
       "      <th>9</th>\n",
       "      <td>why-don-t-you-love-me</td>\n",
       "      <td>2009</td>\n",
       "      <td>beyonce</td>\n",
       "      <td>Pop</td>\n",
       "      <td>N n now honey You better sit down and look aro...</td>\n",
       "    </tr>\n",
       "    <tr>\n",
       "      <th>16</th>\n",
       "      <td>poison</td>\n",
       "      <td>2009</td>\n",
       "      <td>beyonce</td>\n",
       "      <td>Pop</td>\n",
       "      <td>You're bad for me I clearly get it I don't see...</td>\n",
       "    </tr>\n",
       "    <tr>\n",
       "      <th>18</th>\n",
       "      <td>beautiful-liar</td>\n",
       "      <td>2007</td>\n",
       "      <td>beyonce</td>\n",
       "      <td>Pop</td>\n",
       "      <td>Ay Ay Ay Nobody likes to be played Oh Beyonce ...</td>\n",
       "    </tr>\n",
       "    <tr>\n",
       "      <th>19</th>\n",
       "      <td>beautiful-liar-spanish</td>\n",
       "      <td>2007</td>\n",
       "      <td>beyonce</td>\n",
       "      <td>Pop</td>\n",
       "      <td>Ay Ay Nobody likes being played Ay Oh Beyonc B...</td>\n",
       "    </tr>\n",
       "    <tr>\n",
       "      <th>20</th>\n",
       "      <td>beautiful-liar-spanglish-version</td>\n",
       "      <td>2007</td>\n",
       "      <td>beyonce</td>\n",
       "      <td>Pop</td>\n",
       "      <td>Ay Ay Nobody likes being played Ay Oh Beyonce ...</td>\n",
       "    </tr>\n",
       "    <tr>\n",
       "      <th>27</th>\n",
       "      <td>if</td>\n",
       "      <td>2008</td>\n",
       "      <td>beyonce</td>\n",
       "      <td>Pop</td>\n",
       "      <td>He is always laughin and flirting with me And ...</td>\n",
       "    </tr>\n",
       "    <tr>\n",
       "      <th>29</th>\n",
       "      <td>flaws-all</td>\n",
       "      <td>2007</td>\n",
       "      <td>beyonce</td>\n",
       "      <td>Pop</td>\n",
       "      <td>I'm a train wreck in the morning I'm a bitch i...</td>\n",
       "    </tr>\n",
       "    <tr>\n",
       "      <th>33</th>\n",
       "      <td>listen</td>\n",
       "      <td>2007</td>\n",
       "      <td>beyonce</td>\n",
       "      <td>Pop</td>\n",
       "      <td>Listen to the song here in my heart A melody I...</td>\n",
       "    </tr>\n",
       "    <tr>\n",
       "      <th>34</th>\n",
       "      <td>welcome-to-hollywood</td>\n",
       "      <td>2007</td>\n",
       "      <td>beyonce</td>\n",
       "      <td>Pop</td>\n",
       "      <td>It ain't for everybody Uhh Welcome to Hollywoo...</td>\n",
       "    </tr>\n",
       "    <tr>\n",
       "      <th>38</th>\n",
       "      <td>angel</td>\n",
       "      <td>2014</td>\n",
       "      <td>beyonce</td>\n",
       "      <td>Pop</td>\n",
       "      <td>This is for my fans Uhu uhu This is for my des...</td>\n",
       "    </tr>\n",
       "    <tr>\n",
       "      <th>44</th>\n",
       "      <td>irreemplazable-irreplaceable-spanish-version</td>\n",
       "      <td>2007</td>\n",
       "      <td>beyonce</td>\n",
       "      <td>Pop</td>\n",
       "      <td>To the left to the left To the left to the lef...</td>\n",
       "    </tr>\n",
       "    <tr>\n",
       "      <th>49</th>\n",
       "      <td>mine</td>\n",
       "      <td>2014</td>\n",
       "      <td>beyonce</td>\n",
       "      <td>Pop</td>\n",
       "      <td>I've been watching for the signs Took a trip ...</td>\n",
       "    </tr>\n",
       "    <tr>\n",
       "      <th>50</th>\n",
       "      <td>superpower</td>\n",
       "      <td>2014</td>\n",
       "      <td>beyonce</td>\n",
       "      <td>Pop</td>\n",
       "      <td>When the palm of my two hands hold each other...</td>\n",
       "    </tr>\n",
       "    <tr>\n",
       "      <th>51</th>\n",
       "      <td>haunted</td>\n",
       "      <td>2014</td>\n",
       "      <td>beyonce</td>\n",
       "      <td>Pop</td>\n",
       "      <td>The winner is Beyonce Knowles female pop voca...</td>\n",
       "    </tr>\n",
       "    <tr>\n",
       "      <th>52</th>\n",
       "      <td>flawless</td>\n",
       "      <td>2014</td>\n",
       "      <td>beyonce</td>\n",
       "      <td>Pop</td>\n",
       "      <td>Your challengers are a young group from Houst...</td>\n",
       "    </tr>\n",
       "    <tr>\n",
       "      <th>53</th>\n",
       "      <td>ghost</td>\n",
       "      <td>2007</td>\n",
       "      <td>beyonce</td>\n",
       "      <td>Pop</td>\n",
       "      <td>The winner is Beyonce Knowles female pop voca...</td>\n",
       "    </tr>\n",
       "    <tr>\n",
       "      <th>54</th>\n",
       "      <td>xo</td>\n",
       "      <td>2014</td>\n",
       "      <td>beyonce</td>\n",
       "      <td>Pop</td>\n",
       "      <td>Your love is bright as ever Even in the shado...</td>\n",
       "    </tr>\n",
       "  </tbody>\n",
       "</table>\n",
       "</div>"
      ],
      "text/plain": [
       "                                            song  year   artist genre  \\\n",
       "0                                      ego-remix  2009  beyonce   Pop   \n",
       "5                         all-i-could-do-was-cry  2008  beyonce   Pop   \n",
       "6                             once-in-a-lifetime  2008  beyonce   Pop   \n",
       "9                          why-don-t-you-love-me  2009  beyonce   Pop   \n",
       "16                                        poison  2009  beyonce   Pop   \n",
       "18                                beautiful-liar  2007  beyonce   Pop   \n",
       "19                        beautiful-liar-spanish  2007  beyonce   Pop   \n",
       "20              beautiful-liar-spanglish-version  2007  beyonce   Pop   \n",
       "27                                            if  2008  beyonce   Pop   \n",
       "29                                     flaws-all  2007  beyonce   Pop   \n",
       "33                                        listen  2007  beyonce   Pop   \n",
       "34                          welcome-to-hollywood  2007  beyonce   Pop   \n",
       "38                                         angel  2014  beyonce   Pop   \n",
       "44  irreemplazable-irreplaceable-spanish-version  2007  beyonce   Pop   \n",
       "49                                          mine  2014  beyonce   Pop   \n",
       "50                                    superpower  2014  beyonce   Pop   \n",
       "51                                       haunted  2014  beyonce   Pop   \n",
       "52                                      flawless  2014  beyonce   Pop   \n",
       "53                                         ghost  2007  beyonce   Pop   \n",
       "54                                            xo  2014  beyonce   Pop   \n",
       "\n",
       "                                               lyrics  \n",
       "0   Oh baby how you doing You know I'm gonna cut r...  \n",
       "5   I heard Church bells ringing I heard A choir s...  \n",
       "6   This is just another day that I would spend Wa...  \n",
       "9   N n now honey You better sit down and look aro...  \n",
       "16  You're bad for me I clearly get it I don't see...  \n",
       "18  Ay Ay Ay Nobody likes to be played Oh Beyonce ...  \n",
       "19  Ay Ay Nobody likes being played Ay Oh Beyonc B...  \n",
       "20  Ay Ay Nobody likes being played Ay Oh Beyonce ...  \n",
       "27  He is always laughin and flirting with me And ...  \n",
       "29  I'm a train wreck in the morning I'm a bitch i...  \n",
       "33  Listen to the song here in my heart A melody I...  \n",
       "34  It ain't for everybody Uhh Welcome to Hollywoo...  \n",
       "38  This is for my fans Uhu uhu This is for my des...  \n",
       "44  To the left to the left To the left to the lef...  \n",
       "49   I've been watching for the signs Took a trip ...  \n",
       "50   When the palm of my two hands hold each other...  \n",
       "51   The winner is Beyonce Knowles female pop voca...  \n",
       "52   Your challengers are a young group from Houst...  \n",
       "53   The winner is Beyonce Knowles female pop voca...  \n",
       "54   Your love is bright as ever Even in the shado...  "
      ]
     },
     "execution_count": 27,
     "metadata": {},
     "output_type": "execute_result"
    }
   ],
   "source": [
    "# Just to check what the data looks like\n",
    "df.head(20)"
   ]
  },
  {
   "cell_type": "code",
   "execution_count": null,
   "id": "9925bd65",
   "metadata": {},
   "outputs": [],
   "source": [
    "import urllib.request\n",
    "import re\n",
    "\n",
    "video_path = []\n",
    "for i, song in enumerate(df.song.values):\n",
    "    search_term = song.replace('-', '+') + '+' + df.artist.values[i].replace('-', '+') + '+music+video'\n",
    "    search_url = \"https://www.youtube.com/results?search_query=\" + search_term\n",
    "    html = urllib.request.urlopen(search_url)\n",
    "    video_ids = re.findall(r\"watch\\?v=(\\S{11})\", html.read().decode())\n",
    "    video_path.append(video_ids[0])"
   ]
  },
  {
   "cell_type": "code",
   "execution_count": 39,
   "id": "4afd827a",
   "metadata": {},
   "outputs": [
    {
     "name": "stderr",
     "output_type": "stream",
     "text": [
      "100%|██████████| 8498/8498 [1:37:38<00:00,  1.45it/s] \n"
     ]
    }
   ],
   "source": [
    "# The following code checks for each unique artist in the dataset whether they have an entity on IMVDb (the international\n",
    "# music database). If it gives an error, it puts the artist in a list.\n",
    "import urllib3.request\n",
    "import urllib.error\n",
    "import re\n",
    "from tqdm import tqdm\n",
    "import threading\n",
    "\n",
    "artist_novids = []\n",
    "for artist in tqdm(df.artist.unique()):\n",
    "    imvdb_url = 'http://imvdb.com/n/' + artist\n",
    "    try:\n",
    "        html_imvdb = urllib.request.urlopen(imvdb_url)\n",
    "    except urllib.error.HTTPError as e:\n",
    "        artist_novids.append(artist)"
   ]
  },
  {
   "cell_type": "code",
   "execution_count": 41,
   "id": "30aa7a32",
   "metadata": {},
   "outputs": [],
   "source": [
    "# Here I create a dataset that does not contain the artists without music videos\n",
    "df_cl = df.loc[~df.artist.isin(artist_novids)]"
   ]
  },
  {
   "cell_type": "code",
   "execution_count": 49,
   "id": "52de39e0",
   "metadata": {},
   "outputs": [
    {
     "data": {
      "text/html": [
       "<div>\n",
       "<style scoped>\n",
       "    .dataframe tbody tr th:only-of-type {\n",
       "        vertical-align: middle;\n",
       "    }\n",
       "\n",
       "    .dataframe tbody tr th {\n",
       "        vertical-align: top;\n",
       "    }\n",
       "\n",
       "    .dataframe thead th {\n",
       "        text-align: right;\n",
       "    }\n",
       "</style>\n",
       "<table border=\"1\" class=\"dataframe\">\n",
       "  <thead>\n",
       "    <tr style=\"text-align: right;\">\n",
       "      <th></th>\n",
       "      <th>song</th>\n",
       "      <th>year</th>\n",
       "      <th>artist</th>\n",
       "      <th>lyrics</th>\n",
       "    </tr>\n",
       "    <tr>\n",
       "      <th>genre</th>\n",
       "      <th></th>\n",
       "      <th></th>\n",
       "      <th></th>\n",
       "      <th></th>\n",
       "    </tr>\n",
       "  </thead>\n",
       "  <tbody>\n",
       "    <tr>\n",
       "      <th>Country</th>\n",
       "      <td>8753</td>\n",
       "      <td>8753</td>\n",
       "      <td>8753</td>\n",
       "      <td>8753</td>\n",
       "    </tr>\n",
       "    <tr>\n",
       "      <th>Electronic</th>\n",
       "      <td>4539</td>\n",
       "      <td>4539</td>\n",
       "      <td>4539</td>\n",
       "      <td>4539</td>\n",
       "    </tr>\n",
       "    <tr>\n",
       "      <th>Folk</th>\n",
       "      <td>901</td>\n",
       "      <td>901</td>\n",
       "      <td>901</td>\n",
       "      <td>901</td>\n",
       "    </tr>\n",
       "    <tr>\n",
       "      <th>Hip-Hop</th>\n",
       "      <td>12775</td>\n",
       "      <td>12775</td>\n",
       "      <td>12775</td>\n",
       "      <td>12775</td>\n",
       "    </tr>\n",
       "    <tr>\n",
       "      <th>Indie</th>\n",
       "      <td>1827</td>\n",
       "      <td>1827</td>\n",
       "      <td>1827</td>\n",
       "      <td>1827</td>\n",
       "    </tr>\n",
       "    <tr>\n",
       "      <th>Jazz</th>\n",
       "      <td>4436</td>\n",
       "      <td>4436</td>\n",
       "      <td>4436</td>\n",
       "      <td>4436</td>\n",
       "    </tr>\n",
       "    <tr>\n",
       "      <th>Metal</th>\n",
       "      <td>12879</td>\n",
       "      <td>12879</td>\n",
       "      <td>12879</td>\n",
       "      <td>12879</td>\n",
       "    </tr>\n",
       "    <tr>\n",
       "      <th>Other</th>\n",
       "      <td>936</td>\n",
       "      <td>936</td>\n",
       "      <td>936</td>\n",
       "      <td>936</td>\n",
       "    </tr>\n",
       "    <tr>\n",
       "      <th>Pop</th>\n",
       "      <td>19977</td>\n",
       "      <td>19977</td>\n",
       "      <td>19977</td>\n",
       "      <td>19977</td>\n",
       "    </tr>\n",
       "    <tr>\n",
       "      <th>R&amp;B</th>\n",
       "      <td>1949</td>\n",
       "      <td>1949</td>\n",
       "      <td>1949</td>\n",
       "      <td>1949</td>\n",
       "    </tr>\n",
       "    <tr>\n",
       "      <th>Rock</th>\n",
       "      <td>61294</td>\n",
       "      <td>61294</td>\n",
       "      <td>61294</td>\n",
       "      <td>61294</td>\n",
       "    </tr>\n",
       "  </tbody>\n",
       "</table>\n",
       "</div>"
      ],
      "text/plain": [
       "             song   year  artist  lyrics\n",
       "genre                                   \n",
       "Country      8753   8753    8753    8753\n",
       "Electronic   4539   4539    4539    4539\n",
       "Folk          901    901     901     901\n",
       "Hip-Hop     12775  12775   12775   12775\n",
       "Indie        1827   1827    1827    1827\n",
       "Jazz         4436   4436    4436    4436\n",
       "Metal       12879  12879   12879   12879\n",
       "Other         936    936     936     936\n",
       "Pop         19977  19977   19977   19977\n",
       "R&B          1949   1949    1949    1949\n",
       "Rock        61294  61294   61294   61294"
      ]
     },
     "execution_count": 49,
     "metadata": {},
     "output_type": "execute_result"
    }
   ],
   "source": [
    "# To check how many songs are now in each genre\n",
    "df_cl.groupby('genre').count()"
   ]
  },
  {
   "cell_type": "code",
   "execution_count": 59,
   "id": "b7cb6f00",
   "metadata": {},
   "outputs": [],
   "source": [
    "# Here, I first create seperate dataframes for all genres\n",
    "df_genre = dict(tuple(df_cl.groupby('genre')))\n",
    "# Here, I sample 500 songs from each genre and put those into new dataframes\n",
    "df_sample = {x: df_genre[x].sample(n=500, random_state=42) for x in df_genre}"
   ]
  },
  {
   "cell_type": "code",
   "execution_count": 74,
   "id": "5453388d",
   "metadata": {},
   "outputs": [
    {
     "name": "stderr",
     "output_type": "stream",
     "text": [
      "100%|██████████| 500/500 [05:36<00:00,  1.49it/s]\n",
      "  0%|          | 0/500 [00:00<?, ?it/s]"
     ]
    },
    {
     "name": "stdout",
     "output_type": "stream",
     "text": [
      "Country has 16 videos\n"
     ]
    },
    {
     "name": "stderr",
     "output_type": "stream",
     "text": [
      "100%|██████████| 500/500 [06:52<00:00,  1.21it/s]\n",
      "  0%|          | 0/500 [00:00<?, ?it/s]"
     ]
    },
    {
     "name": "stdout",
     "output_type": "stream",
     "text": [
      "Electronic has 66 videos\n"
     ]
    },
    {
     "name": "stderr",
     "output_type": "stream",
     "text": [
      "100%|██████████| 500/500 [05:24<00:00,  1.54it/s]\n",
      "  0%|          | 0/500 [00:00<?, ?it/s]"
     ]
    },
    {
     "name": "stdout",
     "output_type": "stream",
     "text": [
      "Folk has 9 videos\n"
     ]
    },
    {
     "name": "stderr",
     "output_type": "stream",
     "text": [
      "100%|██████████| 500/500 [06:03<00:00,  1.37it/s]\n",
      "  0%|          | 0/500 [00:00<?, ?it/s]"
     ]
    },
    {
     "name": "stdout",
     "output_type": "stream",
     "text": [
      "Hip-Hop has 36 videos\n"
     ]
    },
    {
     "name": "stderr",
     "output_type": "stream",
     "text": [
      "100%|██████████| 500/500 [18:11<00:00,  2.18s/it]    \n",
      "  0%|          | 0/500 [00:00<?, ?it/s]"
     ]
    },
    {
     "name": "stdout",
     "output_type": "stream",
     "text": [
      "Indie has 58 videos\n"
     ]
    },
    {
     "name": "stderr",
     "output_type": "stream",
     "text": [
      "100%|██████████| 500/500 [05:21<00:00,  1.56it/s]\n",
      "  0%|          | 0/500 [00:00<?, ?it/s]"
     ]
    },
    {
     "name": "stdout",
     "output_type": "stream",
     "text": [
      "Jazz has 3 videos\n"
     ]
    },
    {
     "name": "stderr",
     "output_type": "stream",
     "text": [
      "100%|██████████| 500/500 [05:27<00:00,  1.53it/s]\n",
      "  0%|          | 0/500 [00:00<?, ?it/s]"
     ]
    },
    {
     "name": "stdout",
     "output_type": "stream",
     "text": [
      "Metal has 16 videos\n"
     ]
    },
    {
     "name": "stderr",
     "output_type": "stream",
     "text": [
      "100%|██████████| 500/500 [27:43<00:00,  3.33s/it]    \n",
      "  0%|          | 0/500 [00:00<?, ?it/s]"
     ]
    },
    {
     "name": "stdout",
     "output_type": "stream",
     "text": [
      "Other has 34 videos\n"
     ]
    },
    {
     "name": "stderr",
     "output_type": "stream",
     "text": [
      "100%|██████████| 500/500 [09:23<00:00,  1.13s/it]  \n",
      "  0%|          | 0/500 [00:00<?, ?it/s]"
     ]
    },
    {
     "name": "stdout",
     "output_type": "stream",
     "text": [
      "Pop has 41 videos\n"
     ]
    },
    {
     "name": "stderr",
     "output_type": "stream",
     "text": [
      "100%|██████████| 500/500 [05:26<00:00,  1.53it/s]\n",
      "  0%|          | 0/500 [00:00<?, ?it/s]"
     ]
    },
    {
     "name": "stdout",
     "output_type": "stream",
     "text": [
      "R&B has 18 videos\n"
     ]
    },
    {
     "name": "stderr",
     "output_type": "stream",
     "text": [
      "100%|██████████| 500/500 [05:51<00:00,  1.42it/s]"
     ]
    },
    {
     "name": "stdout",
     "output_type": "stream",
     "text": [
      "Rock has 26 videos\n"
     ]
    },
    {
     "name": "stderr",
     "output_type": "stream",
     "text": [
      "\n"
     ]
    }
   ],
   "source": [
    "import urllib.request\n",
    "import urllib.error\n",
    "import re\n",
    "from tqdm import tqdm\n",
    "import numpy as np\n",
    "import requests\n",
    "\n",
    "# This function checks whether or not a website exists or not. I checked various methods, and this one seems to be the fastest\n",
    "def uri_exists_stream(uri: str) -> bool:\n",
    "    try:\n",
    "        with requests.get(uri, stream=True) as response:\n",
    "            try:\n",
    "                response.raise_for_status()\n",
    "                return True\n",
    "            except requests.exceptions.HTTPError:\n",
    "                return False\n",
    "    except requests.exceptions.ConnectionError:\n",
    "        return False\n",
    "\n",
    "# This loop checks for each song in the df_sample df whether a music video exists. If it exists, it retrieves the first youtube\n",
    "# link after a search on youtube with the song name and artist.\n",
    "for genre in df_sample:\n",
    "    video_path = []\n",
    "    counter = 0\n",
    "    for i, song in enumerate(tqdm(df_sample[genre].song.values)):\n",
    "        imvdb_url = 'http://imvdb.com/video/' + df_sample[genre].artist.values[i] + '/' + song\n",
    "        if uri_exists_stream(imvdb_url) is True:\n",
    "            search_term = song.replace('-', '+') + '+' + df_sample[genre].artist.values[i].replace('-', '+') + '+music+video'\n",
    "            search_url = \"https://www.youtube.com/results?search_query=\" + search_term\n",
    "            html = urllib.request.urlopen(search_url)\n",
    "            video_ids = re.findall(r\"watch\\?v=(\\S{11})\", html.read().decode())\n",
    "            video_path.append(\"https://www.youtube.com/watch?v=\" + video_ids[0])\n",
    "            counter += 1\n",
    "        else:\n",
    "            video_path.append(np.nan)\n",
    "    print(f'{genre} has {counter} videos')\n",
    "    df_sample[genre]['video_path'] = video_path"
   ]
  },
  {
   "cell_type": "code",
   "execution_count": 52,
   "id": "093ff795",
   "metadata": {},
   "outputs": [
    {
     "name": "stdout",
     "output_type": "stream",
     "text": [
      "[youtube] iW5EzxFR4SM: Downloading webpage\n",
      "[youtube] iW5EzxFR4SM: Downloading player f93a7034\n",
      "[download] Destination: Beyoncé - Ego (Remix) ft. Kanye West-iW5EzxFR4SM.mp4\n",
      "[download] 100% of 6.52MiB in 00:0194MiB/s ETA 00:009\n"
     ]
    }
   ],
   "source": [
    "# This function downloads a video from youtubbe to your downloads folder. I tried it once with a video in the video_paths list\n",
    "import youtube_dl\n",
    "\n",
    "def download(url: str, options: dict):\n",
    "    with youtube_dl.YoutubeDL(options) as ydl:\n",
    "        ydl.download([url])\n",
    "        \n",
    "options = {'format':'133'}  \n",
    "\n",
    "download(video_path[0], options)"
   ]
  },
  {
   "cell_type": "code",
   "execution_count": 77,
   "id": "bcc10664",
   "metadata": {},
   "outputs": [],
   "source": [
    "# Create the cleaned_songs dataset, without artists that have no music video's\n",
    "df_cl.to_csv('cleaned_songs.csv')"
   ]
  },
  {
   "cell_type": "code",
   "execution_count": 78,
   "id": "a013cb41",
   "metadata": {},
   "outputs": [],
   "source": [
    "# Concatenate all genres after finding video links\n",
    "df_sample_concat = pd.concat(df_sample)"
   ]
  },
  {
   "cell_type": "code",
   "execution_count": 87,
   "id": "0cf9e6d8",
   "metadata": {},
   "outputs": [],
   "source": [
    "# Remove NA's and write to csv\n",
    "df_sample_concat.loc[~(df_sample_concat.video_path.isnull())].to_csv('music_videos.csv')"
   ]
  }
 ],
 "metadata": {
  "kernelspec": {
   "display_name": "Python 3",
   "language": "python",
   "name": "python3"
  },
  "language_info": {
   "codemirror_mode": {
    "name": "ipython",
    "version": 3
   },
   "file_extension": ".py",
   "mimetype": "text/x-python",
   "name": "python",
   "nbconvert_exporter": "python",
   "pygments_lexer": "ipython3",
   "version": "3.8.8"
  }
 },
 "nbformat": 4,
 "nbformat_minor": 5
}
